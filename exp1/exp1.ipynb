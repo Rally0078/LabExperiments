{
 "cells": [
  {
   "cell_type": "markdown",
   "metadata": {},
   "source": [
    "<h1>Transistor as amplifier</h1>"
   ]
  },
  {
   "cell_type": "markdown",
   "metadata": {},
   "source": [
    "<h2>Data in table</h2>"
   ]
  },
  {
   "cell_type": "code",
   "execution_count": 13,
   "metadata": {},
   "outputs": [],
   "source": [
    "%matplotlib inline\n",
    "import matplotlib.pyplot as plt\n",
    "import numpy as np\n",
    "import pandas as pd\n",
    "from scipy import interpolate"
   ]
  },
  {
   "cell_type": "code",
   "execution_count": 14,
   "metadata": {},
   "outputs": [],
   "source": [
    "Vin = 0.04\n",
    "df = pd.read_csv('data.csv')\n",
    "\n",
    "logf = np.log10(df['Frequency(Hz)'])\n",
    "gain = 20 * np.log10(df['Output voltage(V)']/Vin)\n",
    "\n",
    "df.insert(1, 'log f', logf)\n",
    "df.insert(3, 'Voltage gain(dB)', gain)"
   ]
  },
  {
   "cell_type": "code",
   "execution_count": 15,
   "metadata": {},
   "outputs": [
    {
     "data": {
      "text/html": [
       "<div>\n",
       "<style scoped>\n",
       "    .dataframe tbody tr th:only-of-type {\n",
       "        vertical-align: middle;\n",
       "    }\n",
       "\n",
       "    .dataframe tbody tr th {\n",
       "        vertical-align: top;\n",
       "    }\n",
       "\n",
       "    .dataframe thead th {\n",
       "        text-align: right;\n",
       "    }\n",
       "</style>\n",
       "<table border=\"1\" class=\"dataframe\">\n",
       "  <thead>\n",
       "    <tr style=\"text-align: right;\">\n",
       "      <th></th>\n",
       "      <th>Frequency(Hz)</th>\n",
       "      <th>log f</th>\n",
       "      <th>Output voltage(V)</th>\n",
       "      <th>Voltage gain(dB)</th>\n",
       "    </tr>\n",
       "  </thead>\n",
       "  <tbody>\n",
       "    <tr>\n",
       "      <th>0</th>\n",
       "      <td>100</td>\n",
       "      <td>2.000000</td>\n",
       "      <td>0.16</td>\n",
       "      <td>12.041200</td>\n",
       "    </tr>\n",
       "    <tr>\n",
       "      <th>1</th>\n",
       "      <td>500</td>\n",
       "      <td>2.698970</td>\n",
       "      <td>0.48</td>\n",
       "      <td>21.583625</td>\n",
       "    </tr>\n",
       "    <tr>\n",
       "      <th>2</th>\n",
       "      <td>1000</td>\n",
       "      <td>3.000000</td>\n",
       "      <td>0.92</td>\n",
       "      <td>27.234557</td>\n",
       "    </tr>\n",
       "    <tr>\n",
       "      <th>3</th>\n",
       "      <td>2000</td>\n",
       "      <td>3.301030</td>\n",
       "      <td>1.70</td>\n",
       "      <td>32.567779</td>\n",
       "    </tr>\n",
       "    <tr>\n",
       "      <th>4</th>\n",
       "      <td>3000</td>\n",
       "      <td>3.477121</td>\n",
       "      <td>2.20</td>\n",
       "      <td>34.807254</td>\n",
       "    </tr>\n",
       "  </tbody>\n",
       "</table>\n",
       "</div>"
      ],
      "text/plain": [
       "   Frequency(Hz)     log f  Output voltage(V)  Voltage gain(dB)\n",
       "0            100  2.000000               0.16         12.041200\n",
       "1            500  2.698970               0.48         21.583625\n",
       "2           1000  3.000000               0.92         27.234557\n",
       "3           2000  3.301030               1.70         32.567779\n",
       "4           3000  3.477121               2.20         34.807254"
      ]
     },
     "execution_count": 15,
     "metadata": {},
     "output_type": "execute_result"
    }
   ],
   "source": [
    "df.head()"
   ]
  },
  {
   "cell_type": "markdown",
   "metadata": {},
   "source": [
    "<h2>Mid frequency gain and -3dB calculation</h2>"
   ]
  },
  {
   "cell_type": "code",
   "execution_count": 16,
   "metadata": {},
   "outputs": [
    {
     "name": "stdout",
     "output_type": "stream",
     "text": [
      "Mid frequency gain = 40.828\n",
      "-3dB (half power) gain = 37.828\n"
     ]
    }
   ],
   "source": [
    "mid_gain = float(df['Voltage gain(dB)'].mode())\n",
    "print(f\"Mid frequency gain = {mid_gain:.3f}\")\n",
    "print(f\"-3dB (half power) gain = {(mid_gain - 3):.3f}\")"
   ]
  },
  {
   "cell_type": "markdown",
   "metadata": {},
   "source": [
    "<h2>Plotting the bode plot</h2>\n",
    "<h3>Cutoff frequencies:</h3>\n",
    "<p>The cutoff frequencies are found by interpolation</p>"
   ]
  },
  {
   "cell_type": "code",
   "execution_count": 17,
   "metadata": {},
   "outputs": [
    {
     "name": "stdout",
     "output_type": "stream",
     "text": [
      "Cutoff logarithmic frequencies are : [3.74499361 5.63755409]\n",
      "Cutoff frequencies are: 5558.961 Hz, and 434064.323 Hz\n"
     ]
    }
   ],
   "source": [
    "cutoff_freq = interpolate.InterpolatedUnivariateSpline(df['log f'], df['Voltage gain(dB)'] -(mid_gain - 3))\n",
    "print(f\"Cutoff logarithmic frequencies are : {cutoff_freq.roots()}\")\n",
    "freq1 = 10**cutoff_freq.roots()[0]\n",
    "freq2 = 10**cutoff_freq.roots()[1]\n",
    "print(f\"Cutoff frequencies are: {freq1:.3f} Hz, and {freq2:.3f} Hz\")"
   ]
  },
  {
   "cell_type": "markdown",
   "metadata": {},
   "source": [
    "<h3>Plot</h3>"
   ]
  },
  {
   "cell_type": "code",
   "execution_count": 18,
   "metadata": {},
   "outputs": [
    {
     "data": {
      "image/png": "[encoded data removed]",
      "text/plain": [
       "<Figure size 1152x648 with 1 Axes>"
      ]
     },
     "metadata": {},
     "output_type": "display_data"
    }
   ],
   "source": [
    "fig = plt.figure(facecolor=(1,1,1))\n",
    "fig.set_figwidth(16)\n",
    "fig.set_figheight(9)\n",
    "x_scale = np.arange(2, 6.25, 0.25)\n",
    "y_scale = np.arange(12, 45, 2)\n",
    "\n",
    "plt.xticks(x_scale)\n",
    "plt.yticks(y_scale)\n",
    "\n",
    "plt.plot(df['log f'], df['Voltage gain(dB)'], label = 'Voltage gain')\n",
    "plt.hlines(mid_gain-3, 3, 6, colors='orange', label='-3dB gain',linestyles='dashed')\n",
    "plt.vlines(cutoff_freq.roots(), 10, (mid_gain - 3), colors='black', label='cutoff frequency',linestyles='dashed')\n",
    "\n",
    "plt.xlabel('log f')\n",
    "plt.ylabel('Voltage gain(dB)')\n",
    "plt.legend()\n",
    "plt.show()"
   ]
  }
 ],
 "metadata": {
  "kernelspec": {
   "display_name": "Python 3.9.12 ('base')",
   "language": "python",
   "name": "python3"
  },
  "language_info": {
   "codemirror_mode": {
    "name": "ipython",
    "version": 3
   },
   "file_extension": ".py",
   "mimetype": "text/x-python",
   "name": "python",
   "nbconvert_exporter": "python",
   "pygments_lexer": "ipython3",
   "version": "3.9.12"
  },
  "orig_nbformat": 4,
  "vscode": {
   "interpreter": {
    "hash": "ad2bdc8ecc057115af97d19610ffacc2b4e99fae6737bb82f5d7fb13d2f2c186"
   }
  }
 },
 "nbformat": 4,
 "nbformat_minor": 2
}
