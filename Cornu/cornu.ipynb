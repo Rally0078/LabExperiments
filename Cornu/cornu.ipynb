{
 "cells": [
  {
   "cell_type": "code",
   "execution_count": 8,
   "metadata": {},
   "outputs": [],
   "source": [
    "import numpy as np\n",
    "import matplotlib.pyplot as plt\n",
    "import pandas as pd"
   ]
  },
  {
   "cell_type": "markdown",
   "metadata": {},
   "source": [
    "<h3>Importing data from csv</h3>"
   ]
  },
  {
   "cell_type": "code",
   "execution_count": 9,
   "metadata": {},
   "outputs": [],
   "source": [
    "df = pd.read_csv('cornu1.csv')"
   ]
  },
  {
   "cell_type": "markdown",
   "metadata": {},
   "source": [
    "<h3>Order numbers sorted for plotting</h3>"
   ]
  },
  {
   "cell_type": "code",
   "execution_count": 10,
   "metadata": {},
   "outputs": [],
   "source": [
    "order = df['order'].to_numpy()\n",
    "order.sort()"
   ]
  },
  {
   "cell_type": "markdown",
   "metadata": {},
   "source": [
    "<h3>Plot four graphs and obtain the slopes for each plot using linear regression</h3>"
   ]
  },
  {
   "cell_type": "code",
   "execution_count": 11,
   "metadata": {},
   "outputs": [
    {
     "ename": "AttributeError",
     "evalue": "module 'matplotlib.pyplot' has no attribute 'orderlabel'",
     "output_type": "error",
     "traceback": [
      "\u001b[1;31m---------------------------------------------------------------------------\u001b[0m",
      "\u001b[1;31mAttributeError\u001b[0m                            Traceback (most recent call last)",
      "\u001b[1;32mg:\\Programming\\Python\\LabExperiments\\Cornu\\cornu.ipynb Cell 7\u001b[0m in \u001b[0;36m<cell line: 6>\u001b[1;34m()\u001b[0m\n\u001b[0;32m      <a href='vscode-notebook-cell:/g%3A/Programming/Python/LabExperiments/Cornu/cornu.ipynb#W6sZmlsZQ%3D%3D?line=3'>4</a>\u001b[0m plt\u001b[39m.\u001b[39mscatter(order, dsqlong)\n\u001b[0;32m      <a href='vscode-notebook-cell:/g%3A/Programming/Python/LabExperiments/Cornu/cornu.ipynb#W6sZmlsZQ%3D%3D?line=4'>5</a>\u001b[0m plt\u001b[39m.\u001b[39mplot(order, a\u001b[39m*\u001b[39morder\u001b[39m+\u001b[39mb)\n\u001b[1;32m----> <a href='vscode-notebook-cell:/g%3A/Programming/Python/LabExperiments/Cornu/cornu.ipynb#W6sZmlsZQ%3D%3D?line=5'>6</a>\u001b[0m plt\u001b[39m.\u001b[39;49morderlabel(\u001b[39m\"\u001b[39m\u001b[39mOrder of interference fringe\u001b[39m\u001b[39m\"\u001b[39m)\n\u001b[0;32m      <a href='vscode-notebook-cell:/g%3A/Programming/Python/LabExperiments/Cornu/cornu.ipynb#W6sZmlsZQ%3D%3D?line=6'>7</a>\u001b[0m plt\u001b[39m.\u001b[39morderticks(order)\n\u001b[0;32m      <a href='vscode-notebook-cell:/g%3A/Programming/Python/LabExperiments/Cornu/cornu.ipynb#W6sZmlsZQ%3D%3D?line=7'>8</a>\u001b[0m plt\u001b[39m.\u001b[39mylabel(\u001b[39m\"\u001b[39m\u001b[39mDiameter squared (mm^2)\u001b[39m\u001b[39m\"\u001b[39m)\n",
      "\u001b[1;31mAttributeError\u001b[0m: module 'matplotlib.pyplot' has no attribute 'orderlabel'"
     ]
    },
    {
     "data": {
      "image/png": "[encoded data removed]",
      "text/plain": [
       "<Figure size 432x288 with 1 Axes>"
      ]
     },
     "metadata": {
      "needs_background": "light"
     },
     "output_type": "display_data"
    }
   ],
   "source": [
    "dsqlong = df['dsqlong'].to_numpy()\n",
    "dsqlong.sort()\n",
    "a, b = np.polyfit(order, dsqlong, deg = 1)\n",
    "plt.scatter(order, dsqlong)\n",
    "plt.plot(order, a*order+b)\n",
    "plt.xlabel(\"Order of interference fringe\")\n",
    "plt.xticks(order)\n",
    "plt.ylabel(\"Diameter squared (mm^2)\")\n",
    "plt.title(\"Longitudinal diameter for m1 = 100g\")\n",
    "plt.savefig('dsqlong.jpeg', dpi= 200)\n",
    "plt.show()\n"
   ]
  },
  {
   "cell_type": "code",
   "execution_count": null,
   "metadata": {},
   "outputs": [],
   "source": [
    "dsqtransv = df['dsqtransv'].to_numpy()\n",
    "dsqtransv.sort()\n",
    "a, b = np.polyfit(order, dsqtransv, deg = 1)\n",
    "plt.scatter(order, dsqtransv)\n",
    "plt.plot(order, a*order+b)\n",
    "plt.xlabel(\"Order of interference fringe\")\n",
    "plt.xticks(order)\n",
    "plt.ylabel(\"Diameter squared (mm^2)\")\n",
    "plt.title(\"Transverse diameter for m1 = 100g\")\n",
    "plt.savefig('dsqtransv.jpeg', dpi = 200)\n",
    "plt.show()"
   ]
  },
  {
   "cell_type": "code",
   "execution_count": null,
   "metadata": {},
   "outputs": [],
   "source": [
    "dsq150long = df['dsq150long'].to_numpy()\n",
    "dsq150long.sort()\n",
    "a, b = np.polyfit(order, dsq150long, deg = 1)\n",
    "plt.scatter(order, dsq150long)\n",
    "plt.plot(order, a*order+b)\n",
    "plt.xlabel(\"Order of interference fringe\")\n",
    "plt.xticks(order)\n",
    "plt.ylabel(\"Diameter squared (mm^2)\")\n",
    "plt.title(\"Longitudinal diameter for m2 = 150g\")\n",
    "plt.savefig('dsq150long.jpeg', dpi = 200)\n",
    "plt.show()"
   ]
  },
  {
   "cell_type": "code",
   "execution_count": null,
   "metadata": {},
   "outputs": [],
   "source": [
    "dsq150transv = df['dsq150transv'].to_numpy()\n",
    "dsq150transv.sort()\n",
    "a, b = np.polyfit(order, dsq150transv, deg = 1)\n",
    "plt.scatter(order, dsq150transv)\n",
    "plt.plot(order, a*order+b)\n",
    "plt.xlabel(\"Order of interference fringe\")\n",
    "plt.xticks(order)\n",
    "plt.ylabel(\"Diameter squared (mm^2)\")\n",
    "plt.title(\"Transverse diameter for m2 = 150g\")\n",
    "plt.savefig('dsq150transv.jpeg', dpi = 200)\n",
    "plt.show()"
   ]
  }
 ],
 "metadata": {
  "kernelspec": {
   "display_name": "Python 3.9.12 ('base')",
   "language": "python",
   "name": "python3"
  },
  "language_info": {
   "codemirror_mode": {
    "name": "ipython",
    "version": 3
   },
   "file_extension": ".py",
   "mimetype": "text/x-python",
   "name": "python",
   "nbconvert_exporter": "python",
   "pygments_lexer": "ipython3",
   "version": "3.9.12"
  },
  "orig_nbformat": 4,
  "vscode": {
   "interpreter": {
    "hash": "679ca3d7e10d4fea823e60e28cb6f57bfb034a2481868839314afba603aaea83"
   }
  }
 },
 "nbformat": 4,
 "nbformat_minor": 2
}
