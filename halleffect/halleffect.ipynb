{
 "cells": [
  {
   "cell_type": "code",
   "execution_count": 19,
   "metadata": {},
   "outputs": [],
   "source": [
    "import numpy as np\n",
    "import matplotlib.pyplot as plt\n",
    "import pandas as pd"
   ]
  },
  {
   "cell_type": "code",
   "execution_count": 20,
   "metadata": {},
   "outputs": [],
   "source": [
    "calib_df = pd.read_csv(\"calib.csv\")\n",
    "curr = calib_df[\"Calib\"].to_numpy()\n",
    "field = calib_df[\"Field\"].to_numpy()\n",
    "field = field/1000\n",
    "\n",
    "fig, ax = plt.subplots(figsize=(12,9))\n",
    "ax.plot(curr, field, \"bo-\")\n",
    "ax.set_xlabel(\"Coil Current (A)\")\n",
    "ax.set_ylabel(\"Magnetic Field (kG)\")\n",
    "ax.grid()\n",
    "ax.set_title(\"Calibration : magnetic field vs coil current\")\n",
    "plt.savefig(\"calib.jpeg\", bbox_inches=\"tight\", dpi=130)\n",
    "plt.close()"
   ]
  },
  {
   "cell_type": "code",
   "execution_count": 21,
   "metadata": {},
   "outputs": [],
   "source": [
    "n05a, n205ma, p1a, p481ma = pd.read_csv(\"n0.5a.csv\"), pd.read_csv(\"n2.05ma.csv\"), pd.read_csv(\"p1a.csv\"), pd.read_csv(\"p4.81ma.csv\")\n",
    "dfs = [n05a, p1a, n205ma, p481ma]\n",
    "fnames = [\"n05a\", \"p1a\", \"n205ma\", \"p481ma\" ]\n",
    "titles = [r\"$0.5\\,A$\", r\"$1.0\\,A$\", r\"$2.05\\,mA$\", r\"$4.81\\,mA$\"]\n",
    "titles2 = [\"n-type Ge\", \"p-type Ge\", \"n-type Ge\", \"p-type Ge\"]\n",
    "i = 0\n",
    "for df in dfs:\n",
    "    if (df.columns[0] == \"probecurrent\"):\n",
    "        probecurrent = df[\"probecurrent\"]\n",
    "        hallvoltage = df[\"hallvoltage\"]\n",
    "        fig, ax = plt.subplots(figsize=(12,9))\n",
    "        ax.plot(probecurrent, hallvoltage, \"bo-\")\n",
    "        ax.set_xlabel(\"Probe Current (mA)\")\n",
    "        ax.set_ylabel(\"Hall Voltage (mV)\")\n",
    "        ax.set_title(f\"Hall voltage vs Probe current ({titles2[i]}, Coil current = {titles[i]})\")\n",
    "        ax.grid()\n",
    "        plt.savefig(fnames[i] + \".jpeg\", bbox_inches=\"tight\", dpi=120)\n",
    "        plt.close()\n",
    "        i = i + 1\n",
    "    else:\n",
    "        field = df[\"Field\"]\n",
    "        hallvoltage = df[\"hallvoltage\"]\n",
    "        fig, ax = plt.subplots(figsize=(12,9))\n",
    "        ax.plot(field, hallvoltage, \"bo-\")\n",
    "        ax.set_xlabel(\"Magnetic field (kG)\")\n",
    "        ax.set_ylabel(\"Hall Voltage (mV)\")\n",
    "        ax.set_title(f\"Hall voltage vs Magnetic field ({titles2[i]}, Probe current = {titles[i]})\")\n",
    "        ax.grid()\n",
    "        plt.savefig(fnames[i] + \".jpeg\", bbox_inches=\"tight\", dpi=120)\n",
    "        plt.close()\n",
    "        i = i + 1"
   ]
  }
 ],
 "metadata": {
  "kernelspec": {
   "display_name": "base",
   "language": "python",
   "name": "python3"
  },
  "language_info": {
   "codemirror_mode": {
    "name": "ipython",
    "version": 3
   },
   "file_extension": ".py",
   "mimetype": "text/x-python",
   "name": "python",
   "nbconvert_exporter": "python",
   "pygments_lexer": "ipython3",
   "version": "3.9.15"
  },
  "orig_nbformat": 4
 },
 "nbformat": 4,
 "nbformat_minor": 2
}
