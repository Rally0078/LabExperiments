{
 "cells": [
  {
   "cell_type": "code",
   "execution_count": 1,
   "metadata": {},
   "outputs": [],
   "source": [
    "import numpy as np\n",
    "import matplotlib.pyplot as plt\n",
    "import pandas as pd\n",
    "from scipy.stats import linregress"
   ]
  },
  {
   "cell_type": "code",
   "execution_count": 2,
   "metadata": {},
   "outputs": [],
   "source": [
    "calib_df = pd.read_csv(\"calib.csv\")\n",
    "curr = calib_df[\"Calib\"].to_numpy()\n",
    "field = calib_df[\"Field\"].to_numpy()\n",
    "field = field/1000\n",
    "\n",
    "fig, ax = plt.subplots(figsize=(12,9))\n",
    "ax.plot(curr, field, \"bo-\")\n",
    "ax.set_xlabel(\"Coil Current (A)\", fontsize=15)\n",
    "ax.set_ylabel(\"Magnetic Field (kG)\", fontsize=15)\n",
    "ax.grid()\n",
    "ax.set_title(\"Calibration : magnetic field vs coil current\", fontsize=18)\n",
    "plt.savefig(\"calib.jpeg\", bbox_inches=\"tight\", dpi=130)\n",
    "plt.close()"
   ]
  },
  {
   "cell_type": "code",
   "execution_count": 3,
   "metadata": {},
   "outputs": [],
   "source": [
    "n05a, n205ma, p1a, p481ma = pd.read_csv(\"n0.5a.csv\"), pd.read_csv(\"n2.05ma.csv\"), pd.read_csv(\"p1a.csv\"), pd.read_csv(\"p4.81ma.csv\")\n",
    "dfs = [n05a, p1a, n205ma, p481ma]\n",
    "fnames = [\"n05a\", \"p1a\", \"n205ma\", \"p481ma\" ]\n",
    "titles = [r\"$0.5\\,A$\", r\"$1.0\\,A$\", r\"$2.05\\,mA$\", r\"$4.81\\,mA$\"]\n",
    "titles2 = [\"n-type Ge\", \"p-type Ge\", \"n-type Ge\", \"p-type Ge\"]\n",
    "slopes= []\n",
    "i = 0\n",
    "for df in dfs:\n",
    "    if (df.columns[0] == \"probecurrent\"):\n",
    "        probecurrent = df[\"probecurrent\"].to_numpy()\n",
    "        hallvoltage = df[\"hallvoltage\"].to_numpy()\n",
    "        fig, ax = plt.subplots(figsize=(12,9))\n",
    "        ax.plot(probecurrent, hallvoltage, \"bo-\")\n",
    "        ax.set_xlabel(\"Probe Current (mA)\", fontsize=15)\n",
    "        ax.set_ylabel(\"Hall Voltage (mV)\", fontsize=15)\n",
    "        ax.set_title(f\"Hall voltage vs Probe current ({titles2[i]}, Coil current = {titles[i]})\", fontsize=18)\n",
    "        ax.grid()\n",
    "        plt.savefig(fnames[i] + \".jpeg\", bbox_inches=\"tight\", dpi=120)\n",
    "        plt.close()\n",
    "        slopes.append(linregress(probecurrent, hallvoltage).slope)\n",
    "        i = i + 1\n",
    "    else:\n",
    "        field = df[\"Field\"].to_numpy()\n",
    "        hallvoltage = df[\"hallvoltage\"].to_numpy()\n",
    "        fig, ax = plt.subplots(figsize=(12,9))\n",
    "        ax.plot(field, hallvoltage, \"bo-\")\n",
    "        ax.set_xlabel(\"Magnetic field (kG)\", fontsize=15)\n",
    "        ax.set_ylabel(\"Hall Voltage (mV)\", fontsize=15)\n",
    "        ax.set_title(f\"Hall voltage vs Magnetic field ({titles2[i]}, Probe current = {titles[i]})\", fontsize=18)\n",
    "        ax.grid()\n",
    "        plt.savefig(fnames[i] + \".jpeg\", bbox_inches=\"tight\", dpi=120)\n",
    "        plt.close()\n",
    "        slopes.append(linregress(field, hallvoltage).slope)\n",
    "        i = i + 1"
   ]
  },
  {
   "cell_type": "code",
   "execution_count": 4,
   "metadata": {},
   "outputs": [
    {
     "name": "stdout",
     "output_type": "stream",
     "text": [
      "Hall coeff is 0.001003684000148349 cm^3 C^-1\n",
      "Hall coeff is 0.0002284844941094941 cm^3 C^-1\n",
      "Hall coeff is 0.0036878131971385337 cm^3 C^-1\n",
      "Hall coeff is 0.0017484154468927055 cm^3 C^-1\n",
      "Avg n type hall coeff = 0.002345748598643441 cm^3 C^-1\n",
      "Avg p type hall coeff = 0.0009884499705010998 cm^3 C^-1\n",
      "n mobility = 0.00023457485986434412 cm^2 V^-1 s^-1\n",
      "p mobility = 0.00019768999410021997 cm^2 V^-1 s^-1\n",
      "n carrier concentration = 2.6610683075940466e+21 cm^-3\n",
      "p carrier concentration = 6.315137275251973e+21 cm^-3\n"
     ]
    }
   ],
   "source": [
    "hcoeff = []\n",
    "z = 5e-2\n",
    "rho = [10, 5]\n",
    "H = [848.5, 1776]\n",
    "curr = [205, 481]\n",
    "e = 1.602e-19\n",
    "i = 0\n",
    "for i in range(0,2):\n",
    "    hcoeff.append(slopes[i] * z/H[i])\n",
    "for i in range(0, 2):\n",
    "    hcoeff.append(slopes[i+2] * z/curr[i])\n",
    "\n",
    "for i in range(0,4):\n",
    "    if(i<=1):\n",
    "        print(f\"Hall coeff is {hcoeff[i]} cm^3 C^-1\")\n",
    "    else:\n",
    "        print(f\"Hall coeff is {hcoeff[i]} cm^3 C^-1\")\n",
    "nhall = (hcoeff[0] + hcoeff[2])/2\n",
    "phall = (hcoeff[1] + hcoeff[3])/2\n",
    "print(f\"Avg n type hall coeff = {nhall} cm^3 C^-1\")\n",
    "print(f\"Avg p type hall coeff = {phall} cm^3 C^-1\")\n",
    "print(f\"n mobility = {nhall * 1/rho[0]} cm^2 V^-1 s^-1\")\n",
    "print(f\"p mobility = {phall * 1/rho[1]} cm^2 V^-1 s^-1\")\n",
    "print(f\"n carrier concentration = {1/(nhall * e)} cm^-3\")\n",
    "print(f\"p carrier concentration = {1/(phall * e)} cm^-3\")"
   ]
  }
 ],
 "metadata": {
  "kernelspec": {
   "display_name": "base",
   "language": "python",
   "name": "python3"
  },
  "language_info": {
   "codemirror_mode": {
    "name": "ipython",
    "version": 3
   },
   "file_extension": ".py",
   "mimetype": "text/x-python",
   "name": "python",
   "nbconvert_exporter": "python",
   "pygments_lexer": "ipython3",
   "version": "3.9.15"
  },
  "orig_nbformat": 4
 },
 "nbformat": 4,
 "nbformat_minor": 2
}
